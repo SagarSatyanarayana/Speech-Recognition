{
 "cells": [
  {
   "cell_type": "markdown",
   "metadata": {},
   "source": [
    "# Multilayer perceptron to classify english spoken words 0 to 9"
   ]
  },
  {
   "cell_type": "markdown",
   "metadata": {},
   "source": [
    "## Dataset\n",
    "\n",
    "About 2000 voice recordings are used in the analysis. This dataset is obtained from https://github.com/Jakobovski/free-spoken-digit-dataset"
   ]
  },
  {
   "cell_type": "markdown",
   "metadata": {},
   "source": [
    "## Mel Frequency Cepstral Coefficient\n",
    "\n",
    "Python_speech_feature module is used to convert raw audio recordings (.wav audio files) to their corresponding Mel frequency cepstral coefficients (MFCCs). These MFCCs are used to train and test the model. The dataset is split into training(80%) and testing(20%). "
   ]
  },
  {
   "cell_type": "code",
   "execution_count": 14,
   "metadata": {},
   "outputs": [],
   "source": [
    "from python_speech_features import mfcc\n",
    "import scipy.io.wavfile as wav\n",
    "\n",
    "def get_mfcc(file_path):\n",
    "    (rate, sig) = wav.read(file_path)\n",
    "    return mfcc(sig, rate)"
   ]
  },
  {
   "cell_type": "code",
   "execution_count": 15,
   "metadata": {},
   "outputs": [],
   "source": [
    "def split_train_test(data, test_ratio, seed):\n",
    "    '''\n",
    "    divides data into training and testing sets\n",
    "    '''\n",
    "    np.random.seed(seed)\n",
    "    shuffled_indices = np.random.permutation(len(data))\n",
    "    test_set_size = int(len(data)*test_ratio)\n",
    "    test_indices = shuffled_indices[:test_set_size]\n",
    "    train_indices = shuffled_indices[test_set_size:]\n",
    "    return data[train_indices], data[test_indices]"
   ]
  },
  {
   "cell_type": "code",
   "execution_count": 16,
   "metadata": {},
   "outputs": [],
   "source": [
    "folder_path = r'''/home/sagar/GitHub-Repos/Speech Recognition/recordings'''"
   ]
  },
  {
   "cell_type": "code",
   "execution_count": 17,
   "metadata": {},
   "outputs": [],
   "source": [
    "\n",
    "import os\n",
    "import numpy as np\n",
    "from numpy import newaxis\n",
    "labels = []\n",
    "fileNames = os.listdir(folder_path)\n",
    "mel_freq = np.empty(shape = (len(fileNames), 60, 12))\n",
    "for fileName in fileNames:\n",
    "    #label = int(fileName[0])\n",
    "    path = os.path.abspath(os.path.join(folder_path, fileName))\n",
    "    mfcc_temp = get_mfcc(path)                                   \n",
    "    mfcc_temp.resize(1,60,12)\n",
    "    np.append(mel_freq, mfcc_temp, axis=0)\n",
    "    labels.append(int(fileName[0]))"
   ]
  },
  {
   "cell_type": "code",
   "execution_count": 18,
   "metadata": {},
   "outputs": [],
   "source": [
    "targets = np.array(labels)"
   ]
  },
  {
   "cell_type": "code",
   "execution_count": 19,
   "metadata": {},
   "outputs": [],
   "source": [
    "train_data, test_data = split_train_test(mel_freq, 0.1, 1)\n",
    "train_labels, test_labels = split_train_test(targets, 0.1, 1)"
   ]
  },
  {
   "cell_type": "code",
   "execution_count": 20,
   "metadata": {},
   "outputs": [],
   "source": [
    "# one-hot encoding of labels into 10 categories (0 to 9)\n",
    "from keras.utils.np_utils import to_categorical\n",
    "\n",
    "train_labels = to_categorical(train_labels)\n",
    "test_labels = to_categorical(test_labels)"
   ]
  },
  {
   "cell_type": "code",
   "execution_count": 21,
   "metadata": {},
   "outputs": [
    {
     "data": {
      "text/plain": [
       "(1800, 60, 12)"
      ]
     },
     "execution_count": 21,
     "metadata": {},
     "output_type": "execute_result"
    }
   ],
   "source": [
    "train_data.shape"
   ]
  },
  {
   "cell_type": "markdown",
   "metadata": {},
   "source": [
    "## Model\n",
    "\n",
    "The model used here is a Sequential model containing four Dense layers. The first three layers uses \"relu\" activation function and contains 64 hidden layers each. The last layer has an activation function of \"softmax\" with 10 hidden layers, this layer outputs the probability of the observations for all 10 classes (0 to 9).\n",
    "\n",
    "\"Categorical crossentropy\" is used as the loss function to measure the model's performance with accuracy as the metrics and \"rmsprop\" as the optimizer.\n",
    "\n",
    "During training, the model is trained on 800 datapoints and is validated on the other 800. Using validation allows to reduces overfitting by tuning hyperparameters."
   ]
  },
  {
   "cell_type": "code",
   "execution_count": 22,
   "metadata": {},
   "outputs": [
    {
     "name": "stdout",
     "output_type": "stream",
     "text": [
      "_________________________________________________________________\n",
      "Layer (type)                 Output Shape              Param #   \n",
      "=================================================================\n",
      "dense_5 (Dense)              (None, 60, 256)           3328      \n",
      "_________________________________________________________________\n",
      "dense_6 (Dense)              (None, 60, 256)           65792     \n",
      "_________________________________________________________________\n",
      "flatten_2 (Flatten)          (None, 15360)             0         \n",
      "_________________________________________________________________\n",
      "dense_7 (Dense)              (None, 64)                983104    \n",
      "_________________________________________________________________\n",
      "dense_8 (Dense)              (None, 10)                650       \n",
      "=================================================================\n",
      "Total params: 1,052,874\n",
      "Trainable params: 1,052,874\n",
      "Non-trainable params: 0\n",
      "_________________________________________________________________\n"
     ]
    }
   ],
   "source": [
    "\n",
    "# from keras import models, layers\n",
    "\n",
    "# model = models.Sequential()\n",
    "# model.add(layers.Dense(256, activation='relu', input_shape=(60,12)))\n",
    "# model.add(layers.Dense(256,  activation='relu'))\n",
    "# model.add(layers.Flatten())\n",
    "# model.add(layers.Dense(64,  activation='relu'))\n",
    "# model.add(layers.Dense(10, activation='softmax')) \n",
    "\n",
    "\n",
    "# model.compile(optimizer='rmsprop', loss='categorical_crossentropy', metrics=['accuracy'])\n",
    "\n",
    "# model.summary()\n"
   ]
  },
  {
   "cell_type": "code",
   "execution_count": 55,
   "metadata": {},
   "outputs": [
    {
     "name": "stdout",
     "output_type": "stream",
     "text": [
      "_________________________________________________________________\n",
      "Layer (type)                 Output Shape              Param #   \n",
      "=================================================================\n",
      "conv1d_9 (Conv1D)            (None, 51, 32)            3872      \n",
      "_________________________________________________________________\n",
      "max_pooling1d_6 (MaxPooling1 (None, 25, 32)            0         \n",
      "_________________________________________________________________\n",
      "flatten_10 (Flatten)         (None, 800)               0         \n",
      "_________________________________________________________________\n",
      "dense_21 (Dense)             (None, 10)                8010      \n",
      "=================================================================\n",
      "Total params: 11,882\n",
      "Trainable params: 11,882\n",
      "Non-trainable params: 0\n",
      "_________________________________________________________________\n"
     ]
    }
   ],
   "source": [
    "from keras.models import Sequential\n",
    "from keras.layers import Conv1D, MaxPooling1D, Flatten, Dense\n",
    "\n",
    "model = Sequential()\n",
    "model.add(Conv1D(32, 10, input_shape=(train_data.shape[1], train_data.shape[2])))\n",
    "model.add(MaxPooling1D(2))\n",
    "model.add(Flatten())\n",
    "model.add(layers.Dense(10, activation='softmax')) \n",
    "\n",
    "\n",
    "model.compile(optimizer='rmsprop', loss='categorical_crossentropy', metrics=['accuracy'])\n",
    "model.summary()"
   ]
  },
  {
   "cell_type": "code",
   "execution_count": 24,
   "metadata": {},
   "outputs": [],
   "source": [
    "# ## Validating the approach\n",
    "\n",
    "# x_val = train_data[:800]\n",
    "# partial_x_train = train_data[800:]\n",
    "\n",
    "# y_val = train_labels[:800]\n",
    "# partial_y_train = train_labels[800:]"
   ]
  },
  {
   "cell_type": "code",
   "execution_count": 25,
   "metadata": {},
   "outputs": [
    {
     "data": {
      "text/plain": [
       "(800, 60, 12)"
      ]
     },
     "execution_count": 25,
     "metadata": {},
     "output_type": "execute_result"
    }
   ],
   "source": [
    "partial_x_train.shape"
   ]
  },
  {
   "cell_type": "code",
   "execution_count": 54,
   "metadata": {},
   "outputs": [
    {
     "name": "stdout",
     "output_type": "stream",
     "text": [
      "Train on 1440 samples, validate on 360 samples\n",
      "Epoch 1/20\n",
      "1440/1440 [==============================] - 2s 2ms/step - loss: 2.3035 - acc: 0.0896 - val_loss: 2.3029 - val_acc: 0.0944\n",
      "Epoch 2/20\n",
      "1440/1440 [==============================] - 0s 329us/step - loss: 2.3034 - acc: 0.0937 - val_loss: 2.3029 - val_acc: 0.0944\n",
      "Epoch 3/20\n",
      "1440/1440 [==============================] - 0s 169us/step - loss: 2.3033 - acc: 0.0917 - val_loss: 2.3027 - val_acc: 0.0944\n",
      "Epoch 4/20\n",
      "1440/1440 [==============================] - 0s 181us/step - loss: 2.3032 - acc: 0.0854 - val_loss: 2.3032 - val_acc: 0.0944\n",
      "Epoch 5/20\n",
      "1440/1440 [==============================] - 1s 536us/step - loss: 2.3032 - acc: 0.0993 - val_loss: 2.3031 - val_acc: 0.0944\n",
      "Epoch 6/20\n",
      "1440/1440 [==============================] - 1s 369us/step - loss: 2.3032 - acc: 0.0875 - val_loss: 2.3030 - val_acc: 0.0944\n",
      "Epoch 7/20\n",
      "1440/1440 [==============================] - 1s 681us/step - loss: 2.3033 - acc: 0.0993 - val_loss: 2.3029 - val_acc: 0.0917\n",
      "Epoch 8/20\n",
      "1440/1440 [==============================] - 1s 505us/step - loss: 2.3032 - acc: 0.0944 - val_loss: 2.3028 - val_acc: 0.0917\n",
      "Epoch 9/20\n",
      "1440/1440 [==============================] - 1s 425us/step - loss: 2.3031 - acc: 0.1021 - val_loss: 2.3029 - val_acc: 0.0917\n",
      "Epoch 10/20\n",
      "1440/1440 [==============================] - 1s 412us/step - loss: 2.3029 - acc: 0.1069 - val_loss: 2.3037 - val_acc: 0.0917\n",
      "Epoch 11/20\n",
      "1440/1440 [==============================] - 1s 369us/step - loss: 2.3035 - acc: 0.1042 - val_loss: 2.3030 - val_acc: 0.0917\n",
      "Epoch 12/20\n",
      "1440/1440 [==============================] - 0s 257us/step - loss: 2.3033 - acc: 0.0979 - val_loss: 2.3028 - val_acc: 0.0944\n",
      "Epoch 13/20\n",
      "1440/1440 [==============================] - 1s 452us/step - loss: 2.3030 - acc: 0.0986 - val_loss: 2.3033 - val_acc: 0.0944\n",
      "Epoch 14/20\n",
      "1440/1440 [==============================] - 0s 330us/step - loss: 2.3030 - acc: 0.1000 - val_loss: 2.3034 - val_acc: 0.0917\n",
      "Epoch 15/20\n",
      "1440/1440 [==============================] - 1s 391us/step - loss: 2.3031 - acc: 0.0986 - val_loss: 2.3031 - val_acc: 0.0944\n",
      "Epoch 16/20\n",
      "1440/1440 [==============================] - 0s 295us/step - loss: 2.3029 - acc: 0.0979 - val_loss: 2.3034 - val_acc: 0.0917\n",
      "Epoch 17/20\n",
      "1440/1440 [==============================] - 1s 556us/step - loss: 2.3031 - acc: 0.0965 - val_loss: 2.3034 - val_acc: 0.0917\n",
      "Epoch 18/20\n",
      "1440/1440 [==============================] - 1s 370us/step - loss: 2.3030 - acc: 0.0986 - val_loss: 2.3034 - val_acc: 0.1028\n",
      "Epoch 19/20\n",
      "1440/1440 [==============================] - 0s 347us/step - loss: 2.3031 - acc: 0.1007 - val_loss: 2.3032 - val_acc: 0.0917\n",
      "Epoch 20/20\n",
      "1440/1440 [==============================] - 1s 441us/step - loss: 2.3029 - acc: 0.0937 - val_loss: 2.3033 - val_acc: 0.0917\n"
     ]
    }
   ],
   "source": [
    "# history = model.fit(partial_x_train, partial_y_train, epochs=20, batch_size=50, validation_data=(x_val, y_val))\n",
    "history = model.fit(train_data, train_labels, epochs=20, batch_size=50, validation_split=0.2)"
   ]
  },
  {
   "cell_type": "code",
   "execution_count": 56,
   "metadata": {},
   "outputs": [
    {
     "data": {
      "text/plain": [
       "dict_keys(['val_loss', 'val_acc', 'loss', 'acc'])"
      ]
     },
     "execution_count": 56,
     "metadata": {},
     "output_type": "execute_result"
    }
   ],
   "source": [
    "history_dict = history.history\n",
    "history_dict.keys()"
   ]
  },
  {
   "cell_type": "code",
   "execution_count": 59,
   "metadata": {},
   "outputs": [
    {
     "data": {
      "image/png": "[encoded data removed]",
      "text/plain": [
       "<Figure size 432x288 with 1 Axes>"
      ]
     },
     "metadata": {
      "needs_background": "light"
     },
     "output_type": "display_data"
    }
   ],
   "source": [
    "# Plotting training and validation loss\n",
    "\n",
    "import matplotlib.pyplot as plt\n",
    "\n",
    "epochs = range(1, len(history_dict['loss'])+1)\n",
    "\n",
    "loss = history_dict['loss']\n",
    "val_loss = history_dict['val_loss']\n",
    "\n",
    "plt.plot(epochs, loss, label=\"Training Loss\")\n",
    "plt.plot(epochs, val_loss, label=\"Validation Loss\")\n",
    "plt.title(\"Training and validation loss\")\n",
    "plt.legend()\n",
    "\n",
    "plt.show()"
   ]
  },
  {
   "cell_type": "code",
   "execution_count": 58,
   "metadata": {},
   "outputs": [
    {
     "data": {
      "image/png": "[encoded data removed]",
      "text/plain": [
       "<Figure size 432x288 with 1 Axes>"
      ]
     },
     "metadata": {
      "needs_background": "light"
     },
     "output_type": "display_data"
    }
   ],
   "source": [
    "# Plotting training and validation accuracy\n",
    "\n",
    "plt.clf()\n",
    "\n",
    "acc = history_dict['acc']\n",
    "val_acc = history_dict['val_acc']\n",
    "\n",
    "plt.plot(epochs, acc, label=\"Training accuracy\")\n",
    "plt.plot(epochs, val_acc, label=\"Validation accuracy\")\n",
    "plt.title(\"Training and validation accuracy\")\n",
    "plt.legend()\n",
    "\n",
    "plt.show()"
   ]
  },
  {
   "cell_type": "markdown",
   "metadata": {},
   "source": [
    "Plotting validation and training losses and accuracy shows that the model's performance is bad with an accuracy of about 10%. This warrants a review of the model architecture used (Convoluted neural networks may work better than dense), hyperparameter tuning(changing the number of layers, number of hidden layers, epochs and batch size)."
   ]
  },
  {
   "cell_type": "markdown",
   "metadata": {},
   "source": [
    "# Fitting the model on test data\n",
    "\n",
    "Predictions contain the probability that the test data (400 datapoints) fall into each of the 10 categories(0 to 9)\n"
   ]
  },
  {
   "cell_type": "code",
   "execution_count": null,
   "metadata": {},
   "outputs": [],
   "source": [
    "predictions = model.predict(test_data)"
   ]
  }
 ],
 "metadata": {
  "kernelspec": {
   "display_name": "Python 3",
   "language": "python",
   "name": "python3"
  },
  "language_info": {
   "codemirror_mode": {
    "name": "ipython",
    "version": 3
   },
   "file_extension": ".py",
   "mimetype": "text/x-python",
   "name": "python",
   "nbconvert_exporter": "python",
   "pygments_lexer": "ipython3",
   "version": "3.7.3"
  }
 },
 "nbformat": 4,
 "nbformat_minor": 2
}
