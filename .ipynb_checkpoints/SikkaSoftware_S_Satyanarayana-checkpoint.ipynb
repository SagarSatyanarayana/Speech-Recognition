{
 "cells": [
  {
   "cell_type": "markdown",
   "metadata": {},
   "source": [
    "# Multilayer perceptron to classify english spoken words 0 to 9"
   ]
  },
  {
   "cell_type": "markdown",
   "metadata": {},
   "source": [
    "## Dataset\n",
    "\n",
    "About 2000 voice recordings are used in the analysis. This dataset is obtained from https://github.com/Jakobovski/free-spoken-digit-dataset"
   ]
  },
  {
   "cell_type": "markdown",
   "metadata": {},
   "source": [
    "## Mel Frequency Cepstral Coefficient\n",
    "\n",
    "Python_speech_feature module is used to convert raw audio recordings (.wav audio files) to their corresponding Mel frequency cepstral coefficients (MFCCs). These MFCCs are used to train and test the model. The dataset is split into training(80%) and testing(20%). "
   ]
  },
  {
   "cell_type": "code",
   "execution_count": 1,
   "metadata": {},
   "outputs": [],
   "source": [
    "from python_speech_features import mfcc\n",
    "import scipy.io.wavfile as wav\n",
    "\n",
    "def get_mfcc(file_path):\n",
    "    (rate, sig) = wav.read(file_path)\n",
    "    return mfcc(sig, rate)"
   ]
  },
  {
   "cell_type": "code",
   "execution_count": 3,
   "metadata": {},
   "outputs": [],
   "source": [
    "def split_train_test(data, test_ratio, seed):\n",
    "    '''\n",
    "    divides data into training and testing sets\n",
    "    '''\n",
    "    np.random.seed(seed)\n",
    "    shuffled_indices = np.random.permutation(len(data))\n",
    "    test_set_size = int(len(data)*test_ratio)\n",
    "    test_indices = shuffled_indices[:test_set_size]\n",
    "    train_indices = shuffled_indices[test_set_size:]\n",
    "    return data[train_indices], data[test_indices]"
   ]
  },
  {
   "cell_type": "code",
   "execution_count": null,
   "metadata": {},
   "outputs": [],
   "source": [
    "folder_path = r'''/home/sagar/GitHub-Repos/free-spoken-digit-dataset-master/recordings'''"
   ]
  },
  {
   "cell_type": "code",
   "execution_count": 11,
   "metadata": {},
   "outputs": [],
   "source": [
    "\n",
    "import os\n",
    "import numpy as np\n",
    "from numpy import newaxis\n",
    "labels = []\n",
    "fileNames = os.listdir(folder_path)\n",
    "mel_freq = np.empty(shape = (len(fileNames), 60, 12))\n",
    "for fileName in fileNames:\n",
    "    #label = int(fileName[0])\n",
    "    path = os.path.abspath(os.path.join(folder_path, fileName))\n",
    "    mfcc_temp = get_mfcc(path)                                   \n",
    "    mfcc_temp.resize(1,60,12)\n",
    "    np.append(mel_freq, mfcc_temp, axis=0)\n",
    "    labels.append(int(fileName[0]))"
   ]
  },
  {
   "cell_type": "code",
   "execution_count": 6,
   "metadata": {},
   "outputs": [],
   "source": [
    "targets = np.array(labels)"
   ]
  },
  {
   "cell_type": "code",
   "execution_count": 9,
   "metadata": {},
   "outputs": [],
   "source": [
    "train_data, test_data = split_train_test(mel_freq, 0.2, 1)\n",
    "train_labels, test_labels = split_train_test(targets, 0.2, 1)"
   ]
  },
  {
   "cell_type": "code",
   "execution_count": 13,
   "metadata": {},
   "outputs": [],
   "source": [
    "# one-hot encoding of labels into 10 categories (0 to 9)\n",
    "from keras.utils.np_utils import to_categorical\n",
    "\n",
    "train_labels = to_categorical(train_labels)\n",
    "test_labels = to_categorical(test_labels)"
   ]
  },
  {
   "cell_type": "markdown",
   "metadata": {},
   "source": [
    "## Model\n",
    "\n",
    "The model used here is a Sequential model containing four Dense layers. The first three layers uses \"relu\" activation function and contains 64 hidden layers each. The last layer has an activation function of \"softmax\" with 10 hidden layers, this layer outputs the probability of the observations for all 10 classes (0 to 9).\n",
    "\n",
    "\"Categorical crossentropy\" is used as the loss function to measure the model's performance with accuracy as the metrics and \"rmsprop\" as the optimizer.\n",
    "\n",
    "During training, the model is trained on 800 datapoints and is validated on the other 800. Using validation allows to reduces overfitting by tuning hyperparameters."
   ]
  },
  {
   "cell_type": "code",
   "execution_count": 128,
   "metadata": {},
   "outputs": [
    {
     "name": "stdout",
     "output_type": "stream",
     "text": [
      "_________________________________________________________________\n",
      "Layer (type)                 Output Shape              Param #   \n",
      "=================================================================\n",
      "dense_151 (Dense)            (None, 60, 256)           3328      \n",
      "_________________________________________________________________\n",
      "dense_152 (Dense)            (None, 60, 256)           65792     \n",
      "_________________________________________________________________\n",
      "flatten_18 (Flatten)         (None, 15360)             0         \n",
      "_________________________________________________________________\n",
      "dense_153 (Dense)            (None, 64)                983104    \n",
      "_________________________________________________________________\n",
      "dense_154 (Dense)            (None, 10)                650       \n",
      "=================================================================\n",
      "Total params: 1,052,874\n",
      "Trainable params: 1,052,874\n",
      "Non-trainable params: 0\n",
      "_________________________________________________________________\n"
     ]
    }
   ],
   "source": [
    "\n",
    "from keras import models, layers\n",
    "\n",
    "model = models.Sequential()\n",
    "model.add(layers.Dense(256, activation='relu', input_shape=(60,12)))\n",
    "model.add(layers.Dense(256,  activation='relu'))\n",
    "model.add(layers.Flatten())\n",
    "model.add(layers.Dense(64,  activation='relu'))\n",
    "model.add(layers.Dense(10, activation='softmax')) \n",
    "\n",
    "\n",
    "model.compile(optimizer='rmsprop', loss='categorical_crossentropy', metrics=['accuracy'])\n",
    "\n",
    "model.summary()\n"
   ]
  },
  {
   "cell_type": "code",
   "execution_count": 28,
   "metadata": {},
   "outputs": [],
   "source": [
    "## Validating the approach\n",
    "\n",
    "x_val = train_data[:800]\n",
    "partial_x_train = train_data[800:]\n",
    "\n",
    "y_val = train_labels[:800]\n",
    "partial_y_train = train_labels[800:]"
   ]
  },
  {
   "cell_type": "code",
   "execution_count": 77,
   "metadata": {},
   "outputs": [
    {
     "data": {
      "text/plain": [
       "(800, 60, 12)"
      ]
     },
     "execution_count": 77,
     "metadata": {},
     "output_type": "execute_result"
    }
   ],
   "source": [
    "partial_x_train.shape"
   ]
  },
  {
   "cell_type": "code",
   "execution_count": 129,
   "metadata": {},
   "outputs": [
    {
     "name": "stdout",
     "output_type": "stream",
     "text": [
      "Train on 800 samples, validate on 800 samples\n",
      "Epoch 1/20\n",
      "800/800 [==============================] - 2s 3ms/step - loss: 2.3027 - acc: 0.0962 - val_loss: 2.3028 - val_acc: 0.0900\n",
      "Epoch 2/20\n",
      "800/800 [==============================] - 1s 1ms/step - loss: 2.3023 - acc: 0.1188 - val_loss: 2.3030 - val_acc: 0.0900\n",
      "Epoch 3/20\n",
      "800/800 [==============================] - 1s 1ms/step - loss: 2.3021 - acc: 0.1187 - val_loss: 2.3032 - val_acc: 0.0900\n",
      "Epoch 4/20\n",
      "800/800 [==============================] - 1s 2ms/step - loss: 2.3019 - acc: 0.1188 - val_loss: 2.3034 - val_acc: 0.0900\n",
      "Epoch 5/20\n",
      "800/800 [==============================] - 1s 2ms/step - loss: 2.3017 - acc: 0.1188 - val_loss: 2.3036 - val_acc: 0.0900\n",
      "Epoch 6/20\n",
      "800/800 [==============================] - 1s 2ms/step - loss: 2.3015 - acc: 0.1187 - val_loss: 2.3037 - val_acc: 0.0900\n",
      "Epoch 7/20\n",
      "800/800 [==============================] - 1s 1ms/step - loss: 2.3014 - acc: 0.1187 - val_loss: 2.3039 - val_acc: 0.0900\n",
      "Epoch 8/20\n",
      "800/800 [==============================] - 1s 2ms/step - loss: 2.3012 - acc: 0.1187 - val_loss: 2.3041 - val_acc: 0.0900\n",
      "Epoch 9/20\n",
      "800/800 [==============================] - 1s 2ms/step - loss: 2.3011 - acc: 0.1187 - val_loss: 2.3043 - val_acc: 0.0900\n",
      "Epoch 10/20\n",
      "800/800 [==============================] - 2s 2ms/step - loss: 2.3010 - acc: 0.1188 - val_loss: 2.3044 - val_acc: 0.0900\n",
      "Epoch 11/20\n",
      "800/800 [==============================] - 1s 2ms/step - loss: 2.3008 - acc: 0.1188 - val_loss: 2.3046 - val_acc: 0.0900\n",
      "Epoch 12/20\n",
      "800/800 [==============================] - 1s 2ms/step - loss: 2.3007 - acc: 0.1188 - val_loss: 2.3048 - val_acc: 0.0900\n",
      "Epoch 13/20\n",
      "800/800 [==============================] - 1s 2ms/step - loss: 2.3006 - acc: 0.1187 - val_loss: 2.3049 - val_acc: 0.0900\n",
      "Epoch 14/20\n",
      "800/800 [==============================] - 1s 2ms/step - loss: 2.3005 - acc: 0.1187 - val_loss: 2.3051 - val_acc: 0.0900\n",
      "Epoch 15/20\n",
      "800/800 [==============================] - 1s 1ms/step - loss: 2.3004 - acc: 0.1187 - val_loss: 2.3053 - val_acc: 0.0900\n",
      "Epoch 16/20\n",
      "800/800 [==============================] - 1s 1ms/step - loss: 2.3003 - acc: 0.1187 - val_loss: 2.3054 - val_acc: 0.0900\n",
      "Epoch 17/20\n",
      "800/800 [==============================] - 1s 1ms/step - loss: 2.3003 - acc: 0.1188 - val_loss: 2.3056 - val_acc: 0.0900\n",
      "Epoch 18/20\n",
      "800/800 [==============================] - 1s 1ms/step - loss: 2.3002 - acc: 0.1188 - val_loss: 2.3058 - val_acc: 0.0900\n",
      "Epoch 19/20\n",
      "800/800 [==============================] - 1s 2ms/step - loss: 2.3001 - acc: 0.1187 - val_loss: 2.3059 - val_acc: 0.0900\n",
      "Epoch 20/20\n",
      "800/800 [==============================] - 1s 2ms/step - loss: 2.3000 - acc: 0.1187 - val_loss: 2.3061 - val_acc: 0.0900\n"
     ]
    }
   ],
   "source": [
    "history = model.fit(partial_x_train, partial_y_train, epochs=20, batch_size=50, validation_data=(x_val, y_val))"
   ]
  },
  {
   "cell_type": "code",
   "execution_count": 98,
   "metadata": {},
   "outputs": [
    {
     "data": {
      "text/plain": [
       "dict_keys(['val_loss', 'val_acc', 'loss', 'acc'])"
      ]
     },
     "execution_count": 98,
     "metadata": {},
     "output_type": "execute_result"
    }
   ],
   "source": [
    "history_dict = history.history\n",
    "history_dict.keys()"
   ]
  },
  {
   "cell_type": "code",
   "execution_count": 100,
   "metadata": {},
   "outputs": [
    {
     "data": {
      "image/png": "[encoded data removed]",
      "text/plain": [
       "<Figure size 432x288 with 1 Axes>"
      ]
     },
     "metadata": {
      "needs_background": "light"
     },
     "output_type": "display_data"
    }
   ],
   "source": [
    "# Plotting training and validation loss\n",
    "\n",
    "import matplotlib.pyplot as plt\n",
    "\n",
    "epochs = range(1, len(history_dict['loss'])+1)\n",
    "\n",
    "loss = history_dict['loss']\n",
    "val_loss = history_dict['val_loss']\n",
    "\n",
    "plt.plot(epochs, loss, label=\"Training Loss\")\n",
    "plt.plot(epochs, val_loss, label=\"Validation Loss\")\n",
    "plt.title(\"Training and validation loss\")\n",
    "plt.legend()\n",
    "\n",
    "plt.show()"
   ]
  },
  {
   "cell_type": "code",
   "execution_count": 101,
   "metadata": {},
   "outputs": [
    {
     "data": {
      "image/png": "[encoded data removed]",
      "text/plain": [
       "<Figure size 432x288 with 1 Axes>"
      ]
     },
     "metadata": {
      "needs_background": "light"
     },
     "output_type": "display_data"
    }
   ],
   "source": [
    "# Plotting training and validation accuracy\n",
    "\n",
    "plt.clf()\n",
    "\n",
    "acc = history_dict['acc']\n",
    "val_acc = history_dict['val_acc']\n",
    "\n",
    "plt.plot(epochs, acc, label=\"Training accuracy\")\n",
    "plt.plot(epochs, val_acc, label=\"Validation accuracy\")\n",
    "plt.title(\"Training and validation accuracy\")\n",
    "plt.legend()\n",
    "\n",
    "plt.show()"
   ]
  },
  {
   "cell_type": "markdown",
   "metadata": {},
   "source": [
    "Plotting validation and training losses and accuracy shows that the model's performance is bad with an accuracy of about 10%. This warrants a review of the model architecture used (Convoluted neural networks may work better than dense), hyperparameter tuning(changing the number of layers, number of hidden layers, epochs and batch size)."
   ]
  },
  {
   "cell_type": "markdown",
   "metadata": {},
   "source": [
    "# Fitting the model on test data\n",
    "\n",
    "Predictions contain the probability that the test data (400 datapoints) fall into each of the 10 categories(0 to 9)\n"
   ]
  },
  {
   "cell_type": "code",
   "execution_count": 130,
   "metadata": {},
   "outputs": [],
   "source": [
    "predictions = model.predict(test_data)"
   ]
  }
 ],
 "metadata": {
  "kernelspec": {
   "display_name": "Python 3",
   "language": "python",
   "name": "python3"
  },
  "language_info": {
   "codemirror_mode": {
    "name": "ipython",
    "version": 3
   },
   "file_extension": ".py",
   "mimetype": "text/x-python",
   "name": "python",
   "nbconvert_exporter": "python",
   "pygments_lexer": "ipython3",
   "version": "3.7.3"
  }
 },
 "nbformat": 4,
 "nbformat_minor": 2
}
